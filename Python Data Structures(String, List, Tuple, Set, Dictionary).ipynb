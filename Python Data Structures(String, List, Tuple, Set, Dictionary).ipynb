{
 "cells": [
  {
   "cell_type": "code",
   "execution_count": 1,
   "id": "b449c4c8",
   "metadata": {},
   "outputs": [],
   "source": [
    "# Agenda for today (3 hrs) and tomorrow (3 hrs):\n",
    "# Todays topics:\n",
    "# Intro to data structures\n",
    "# Strings\n",
    "# Lists\n",
    "# Tomorrows topics:\n",
    "# Tuples\n",
    "# Sets\n",
    "# Dictionary"
   ]
  },
  {
   "cell_type": "code",
   "execution_count": 2,
   "id": "d40c720d",
   "metadata": {},
   "outputs": [],
   "source": [
    "# What is Data Structure?\n",
    "# A data structure is a particular way of organizing and storing data in a computer so that it can be accessed and modified efficiently.\n",
    "# Different types of data structures are suited to different kinds of applications, and some are highly specialized to specific tasks.\n",
    "# Examples: Arrays, Linked Lists, Stacks, Queues, Trees, Graphs, Hash Tables, etc.\n",
    "# In Python, we have built-in data structures like Lists, Tuples, Sets, and Dictionaries.\n",
    "# We will cover these built-in data structures in detail.\n",
    "\n",
    "# Some practical applications of each Python data structure:\n",
    "# Lists: Used for storing collections of items, such as a list of student names or a list of tasks to be completed.\n",
    "# Tuples: Used for storing fixed collections of items, such as coordinates (x, y) or RGB color values.\n",
    "# Sets: Used for storing unique items, such as a set of unique words in a document or a set of unique user IDs.\n",
    "# Dictionaries: Used for storing key-value pairs, such as a phone book (name -> phone number) or a configuration settings (setting name -> setting value)."
   ]
  },
  {
   "cell_type": "code",
   "execution_count": 3,
   "id": "295f2560",
   "metadata": {},
   "outputs": [
    {
     "name": "stdout",
     "output_type": "stream",
     "text": [
      "Hello, World!\n",
      "\n",
      "Hello, World!\n",
      "\n",
      "Hello,\n",
      "World!\n"
     ]
    }
   ],
   "source": [
    "# Let's start with Strings\n",
    "\n",
    "# What is a String?\n",
    "# A string is a sequence of characters. In Python, strings are immutable, meaning they cannot be changed after they are created.\n",
    "# Strings can be created using single quotes (' '), double quotes (\" \"), or triple quotes (''' ''' or \"\"\" \"\"\").\n",
    "# Example of creating strings\n",
    "single_quote_str = 'Hello, World!'\n",
    "double_quote_str = \"Hello, World!\"\n",
    "triple_quote_str = '''Hello,\n",
    "World!'''\n",
    "print(single_quote_str)\n",
    "\n",
    "print()\n",
    "print(double_quote_str)\n",
    "\n",
    "print()\n",
    "print(triple_quote_str)"
   ]
  },
  {
   "cell_type": "code",
   "execution_count": 4,
   "id": "970f034a",
   "metadata": {},
   "outputs": [
    {
     "name": "stdout",
     "output_type": "stream",
     "text": [
      "Concatenated String: Hello World\n",
      "\n",
      "Repeated String: HelloHelloHello\n",
      "\n",
      "Sliced String: Hello\n",
      "\n",
      "Length of Concatenated String: 11\n",
      "\n",
      "First Character: H\n",
      "Last Character: d\n"
     ]
    }
   ],
   "source": [
    "# Now, let's explore some common string operations and methods\n",
    "# 1. Concatenation\n",
    "str1 = \"Hello\"\n",
    "str2 = \"World\"\n",
    "concatenated_str = str1 + \" \" + str2\n",
    "print(\"Concatenated String:\", concatenated_str)\n",
    "print()\n",
    "\n",
    "# 2. Repetition\n",
    "repeated_str = str1 * 3\n",
    "print(\"Repeated String:\", repeated_str)\n",
    "print()\n",
    "\n",
    "# 3. Slicing\n",
    "sliced_str = concatenated_str[0:5]  # SI=0, EI=(5-1)\n",
    "print(\"Sliced String:\", sliced_str)\n",
    "print()\n",
    "\n",
    "# 4. Length\n",
    "length_of_str = len(concatenated_str)\n",
    "print(\"Length of Concatenated String:\", length_of_str)\n",
    "print()\n",
    "\n",
    "# 5. Indexing\n",
    "first_char = concatenated_str[0]\n",
    "last_char = concatenated_str[-1]\n",
    "print(\"First Character:\", first_char)\n",
    "print(\"Last Character:\", last_char)"
   ]
  },
  {
   "cell_type": "code",
   "execution_count": 5,
   "id": "395dfd06",
   "metadata": {},
   "outputs": [
    {
     "name": "stdout",
     "output_type": "stream",
     "text": [
      "Dr. Darshan Ingle\n",
      "D\n"
     ]
    }
   ],
   "source": [
    "# Strings are immutable in Python\n",
    "s = \"Dr. Darshan Ingle\"\n",
    "print(s)\n",
    "print(s[0])\n",
    "\n",
    "# s[0] = \"M\" # This will raise an error: TypeError: 'str' object does not support item assignment\n",
    "# print(s) # This line will not be executed due to the error above"
   ]
  },
  {
   "cell_type": "code",
   "execution_count": 6,
   "id": "4270999a",
   "metadata": {},
   "outputs": [],
   "source": [
    "# Functions of Strings\n",
    "# Syntax: string_name.function_name()\n",
    "\n",
    "# Lets try to explore all the functions of strings one by one"
   ]
  },
  {
   "cell_type": "code",
   "execution_count": 7,
   "id": "f15f987e",
   "metadata": {},
   "outputs": [
    {
     "name": "stdout",
     "output_type": "stream",
     "text": [
      "Original Username: darshan ingle\n",
      "4587984048\n",
      "Uppercase Username: DARSHAN INGLE\n",
      "4587987440\n"
     ]
    }
   ],
   "source": [
    "# 1. upper(): Converts all characters in the string to uppercase\n",
    "\n",
    "# In banking application, when user enters username in small letters, we can convert it to upper case and then store it in database\n",
    "username = \"darshan ingle\"\n",
    "print(\"Original Username:\", username)\n",
    "print(id(username))\n",
    "\n",
    "uppercase_username = username.upper()\n",
    "print(\"Uppercase Username:\", uppercase_username)\n",
    "print(id(uppercase_username))"
   ]
  },
  {
   "cell_type": "code",
   "execution_count": 8,
   "id": "3fdebf40",
   "metadata": {},
   "outputs": [
    {
     "name": "stdout",
     "output_type": "stream",
     "text": [
      "Original Email: INGLEDARSHAN@GMAIL.COM\n",
      "Lowercase Email: ingledarshan@gmail.com\n"
     ]
    }
   ],
   "source": [
    "# 2. lower(): Converts all characters in the string to lowercase\n",
    "\n",
    "# In e-commerce application, when user enters email id in uppercase letters, we can convert it to lower case and then store it in database\n",
    "email = \"INGLEDARSHAN@GMAIL.COM\"\n",
    "print(\"Original Email:\", email)\n",
    "\n",
    "lowercase_email = email.lower()\n",
    "print(\"Lowercase Email:\", lowercase_email)"
   ]
  },
  {
   "cell_type": "code",
   "execution_count": 9,
   "id": "6fe7bd07",
   "metadata": {},
   "outputs": [
    {
     "name": "stdout",
     "output_type": "stream",
     "text": [
      "Original Name: dArShAn inGLe\n",
      "Title Case Name: Darshan Ingle\n"
     ]
    }
   ],
   "source": [
    "# title(): Converts the first character of each word to uppercase and the rest to lowercase\n",
    "\n",
    "# In a travel booking application, when user enters their name in any format, we can convert it to title case before displaying it on the ticket\n",
    "name = \"dArShAn inGLe\"\n",
    "print(\"Original Name:\", name)\n",
    "title_case_name = name.title()\n",
    "print(\"Title Case Name:\", title_case_name)"
   ]
  },
  {
   "cell_type": "code",
   "execution_count": 10,
   "id": "ce1386ee",
   "metadata": {},
   "outputs": [
    {
     "name": "stdout",
     "output_type": "stream",
     "text": [
      "Original Subject: hello all, we are hosting a birthday party for my kid's 5th birthday on sunday.\n",
      "Capitalized Subject: Hello all, we are hosting a birthday party for my kid's 5th birthday on sunday.\n"
     ]
    }
   ],
   "source": [
    "# 4. capitalize(): Converts the first character of the string to uppercase and the rest to lowercase\n",
    "\n",
    "# In a formal letter application, when user enters the subject line in any format, we can convert it to capitalized case before displaying it on the letter\n",
    "subject = \"hello all, we are hosting a birthday party for my kid's 5th birthday on sunday.\"\n",
    "print(\"Original Subject:\", subject)\n",
    "capitalized_subject = subject.capitalize()\n",
    "print(\"Capitalized Subject:\", capitalized_subject)"
   ]
  },
  {
   "cell_type": "code",
   "execution_count": 11,
   "id": "f04ce373",
   "metadata": {},
   "outputs": [
    {
     "name": "stdout",
     "output_type": "stream",
     "text": [
      "Original User Name:    Darshan Ingle   \n",
      "Stripped User Name: Darshan Ingle\n"
     ]
    }
   ],
   "source": [
    "# 5. strip(): Removes any leading (spaces at the beginning) and trailing (spaces at the end) characters (space is the default leading character to remove)\n",
    "\n",
    "# In a user registration application, when user enters their name with extra spaces, we can remove those spaces before storing it in database\n",
    "user_name = \"   Darshan Ingle   \"\n",
    "print(\"Original User Name:\", user_name)\n",
    "stripped_user_name = user_name.strip()\n",
    "print(\"Stripped User Name:\", stripped_user_name)"
   ]
  },
  {
   "cell_type": "code",
   "execution_count": 12,
   "id": "16e40c63",
   "metadata": {},
   "outputs": [
    {
     "name": "stdout",
     "output_type": "stream",
     "text": [
      "Original User Name:    Darshan Ingle   \n",
      "Left Stripped User Name: Darshan Ingle   \n"
     ]
    }
   ],
   "source": [
    "# 6. lstrip(): Removes any leading (spaces at the beginning) characters (space is the default leading character to remove)\n",
    "\n",
    "# In a user registration application, when user enters their name with extra spaces at the beginning, we can remove those spaces before storing it in database\n",
    "user_name = \"   Darshan Ingle   \"\n",
    "print(\"Original User Name:\", user_name)\n",
    "lstripped_user_name = user_name.lstrip()\n",
    "print(\"Left Stripped User Name:\", lstripped_user_name)"
   ]
  },
  {
   "cell_type": "code",
   "execution_count": 13,
   "id": "1cc64459",
   "metadata": {},
   "outputs": [
    {
     "name": "stdout",
     "output_type": "stream",
     "text": [
      "Original User Name:    Darshan Ingle   \n",
      "Right Stripped User Name:    Darshan Ingle\n"
     ]
    }
   ],
   "source": [
    "# 7. rstrip(): Removes any trailing (spaces at the end) characters (space is the default trailing character to remove)\n",
    "\n",
    "# In a user registration application, when user enters their name with extra spaces at the end, we can remove those spaces before storing it in database\n",
    "user_name = \"   Darshan Ingle   \"\n",
    "print(\"Original User Name:\", user_name)\n",
    "rstripped_user_name = user_name.rstrip()\n",
    "print(\"Right Stripped User Name:\", rstripped_user_name)"
   ]
  },
  {
   "cell_type": "code",
   "execution_count": 14,
   "id": "6b9087a4",
   "metadata": {},
   "outputs": [
    {
     "name": "stdout",
     "output_type": "stream",
     "text": [
      "The word 'python' is found at position: -1\n",
      "The word 'python' is not found in the document.\n"
     ]
    }
   ],
   "source": [
    "# 8. find(): Searches the string for a specified value and returns the position of where it was found. Returns -1 if the value is not found. (case-sensitive)\n",
    "\n",
    "# In a document search application, when user searches for a word, we can use find() to locate the position of the word in the document\n",
    "document = \"Python is a great programming language. Python is widely used in data science.\"\n",
    "# word_to_find = \"Python\"\n",
    "# word_to_find = \"great\"\n",
    "word_to_find = \"python\"  # case-sensitive\n",
    "position = document.find(word_to_find)\n",
    "print(f\"The word '{word_to_find}' is found at position:\", position)\n",
    "if position != -1:\n",
    "    print(f\"The word '{word_to_find}' is found in the document.\")\n",
    "else:\n",
    "    print(f\"The word '{word_to_find}' is not found in the document.\")"
   ]
  },
  {
   "cell_type": "code",
   "execution_count": 15,
   "id": "969a208f",
   "metadata": {},
   "outputs": [
    {
     "name": "stdout",
     "output_type": "stream",
     "text": [
      "Original Bill: The patient underwent an X-ray and an MRI scan.\n",
      "4587727216\n",
      "Updated Bill: The patient underwent an CT scan and an MRI scan.\n",
      "4586323760\n"
     ]
    }
   ],
   "source": [
    "# 9. replace(old, new): Replaces a specified phrase with another specified phrase\n",
    "\n",
    "# In a healtcare billing application, when there is a change in the name of a medical procedure, we can update the procedure name in all the bills\n",
    "bill = \"The patient underwent an X-ray and an MRI scan.\"\n",
    "print(\"Original Bill:\", bill)\n",
    "print(id(bill))\n",
    "updated_bill = bill.replace(\"X-ray\", \"CT scan\")\n",
    "print(\"Updated Bill:\", updated_bill)\n",
    "print(id(updated_bill))"
   ]
  },
  {
   "cell_type": "code",
   "execution_count": 16,
   "id": "8aff3d79",
   "metadata": {},
   "outputs": [
    {
     "name": "stdout",
     "output_type": "stream",
     "text": [
      "Original Shipment String: item1 item2 item3 item4\n",
      "List of Items in Shipment: ['item1', 'item2', 'item3', 'item4']\n"
     ]
    }
   ],
   "source": [
    "# 10. split(): Splits the string at the specified separator, and returns a list\n",
    "\n",
    "# In logistics application, when we receive a comma-separated list of items in a shipment, we can split the string into a list of individual items\n",
    "# shipment = \"item1,item2,item3,item4\"\n",
    "shipment = \"item1 item2 item3 item4\"\n",
    "print(\"Original Shipment String:\", shipment)\n",
    "# items_list = shipment.split(\",\")\n",
    "items_list = shipment.split(\" \")\n",
    "print(\"List of Items in Shipment:\", items_list)"
   ]
  },
  {
   "cell_type": "code",
   "execution_count": 17,
   "id": "2f5fa338",
   "metadata": {},
   "outputs": [
    {
     "name": "stdout",
     "output_type": "stream",
     "text": [
      "Original Words List:\n",
      " ['Hello', 'travelers', 'welcome', 'to', 'the', 'Swiss', 'Alps', '.', 'These', 'are', 'the', 'most', 'beautiful', 'mountains', 'in', 'the', 'world', '.']\n",
      "Joined Sentence:\n",
      " Hello travelers welcome to the Swiss Alps . These are the most beautiful mountains in the world .\n"
     ]
    }
   ],
   "source": [
    "# 11. join(): Joins the elements of an iterable (e.g., list, tuple) into a single string, with a specified separator\n",
    "\n",
    "# In a messaging application, when we have a list of words and we want to create a sentence, we can use join() to combine the words into a single string\n",
    "words = [\"Hello\", \"travelers\", \"welcome\", \"to\", \"the\", \"Swiss\", \"Alps\", \".\", \"These\", \"are\", \"the\", \"most\", \"beautiful\", \"mountains\", \"in\", \"the\", \"world\", \".\"]\n",
    "print(\"Original Words List:\\n\", words)\n",
    "sentence = \" \".join(words)\n",
    "print(\"Joined Sentence:\\n\", sentence)"
   ]
  },
  {
   "cell_type": "code",
   "execution_count": 18,
   "id": "e768350c",
   "metadata": {},
   "outputs": [
    {
     "name": "stdout",
     "output_type": "stream",
     "text": [
      "Original Message:\n",
      " This is a sample message. This message is for testing.\n",
      "Count of 'message': 2\n"
     ]
    }
   ],
   "source": [
    "# 12. count(substring): Returns the number of occurrences of a substring in the string\n",
    "\n",
    "# In a content moderation application, we can use count() to find the number of times a specific word appears in a user's message\n",
    "message = \"This is a sample message. This message is for testing.\"\n",
    "print(\"Original Message:\\n\", message)\n",
    "word_count = message.count(\"message\")\n",
    "print(\"Count of 'message':\", word_count)"
   ]
  },
  {
   "cell_type": "code",
   "execution_count": 19,
   "id": "e58e6ad0",
   "metadata": {},
   "outputs": [
    {
     "name": "stdout",
     "output_type": "stream",
     "text": [
      "The mobile number 919876543210 is from India.\n"
     ]
    }
   ],
   "source": [
    "# 13. startswith(prefix): Returns True if the string starts with the specified prefix, otherwise False\n",
    "\n",
    "# In telecom, mobile numbers starting \"91\" are from India\n",
    "mobile_number = \"919876543210\"\n",
    "# Check if the mobile number starts with \"91\"\n",
    "is_indian_number = mobile_number.startswith(\"91\")\n",
    "if is_indian_number is True:\n",
    "    print(f\"The mobile number {mobile_number} is from India.\")\n",
    "else:\n",
    "    print(f\"The mobile number {mobile_number} is not from India.\")"
   ]
  },
  {
   "cell_type": "code",
   "execution_count": 20,
   "id": "44c22572",
   "metadata": {},
   "outputs": [
    {
     "name": "stdout",
     "output_type": "stream",
     "text": [
      "The email address ingledarshan@gmail.com is valid.\n",
      "The resume file darshan_ingle_resume.odf is not valid. Please upload a valid resume file.\n"
     ]
    }
   ],
   "source": [
    "# 14. endswith(suffix): Returns True if the string ends with the specified suffix, otherwise False\n",
    "\n",
    "# In email validation, we can check if an email address ends with a valid domain like \".com\" or \".org\"\n",
    "email = \"ingledarshan@gmail.com\"\n",
    "if email.endswith(\".com\") or email.endswith(\".org\"):\n",
    "    print(f\"The email address {email} is valid.\")\n",
    "else:\n",
    "    print(f\"The email address {email} is not valid.\")\n",
    "\n",
    "    # In job protal application, we can check if a resume file ends with a valid extension like \".pdf\" or \".docx\"\n",
    "resume_file = \"darshan_ingle_resume.odf\"\n",
    "if resume_file.endswith(\".pdf\") or resume_file.endswith(\".docx\"):\n",
    "    print(f\"The resume file {resume_file} is valid. It is sent ahead for further processing.\")\n",
    "else:\n",
    "    print(f\"The resume file {resume_file} is not valid. Please upload a valid resume file.\")"
   ]
  },
  {
   "cell_type": "code",
   "execution_count": 21,
   "id": "83ec8397",
   "metadata": {},
   "outputs": [
    {
     "name": "stdout",
     "output_type": "stream",
     "text": [
      "The name 'Darshan Ingle' is not valid. It should contain only letters.\n"
     ]
    }
   ],
   "source": [
    "# 15. isalpha(): Returns True if all characters in the string are alphabetic (letters), otherwise False\n",
    "# In a user registration application, we can use isalpha() to validate that the name field contains only letters\n",
    "# name = \"DarshanIngle\"\n",
    "name = \"Darshan Ingle\"\n",
    "if name.isalpha() is True:\n",
    "    print(f\"The name '{name}' is valid.\")\n",
    "else:\n",
    "    print(f\"The name '{name}' is not valid. It should contain only letters.\")"
   ]
  },
  {
   "cell_type": "code",
   "execution_count": 22,
   "id": "02b31cfa",
   "metadata": {},
   "outputs": [
    {
     "name": "stdout",
     "output_type": "stream",
     "text": [
      "The OTP '784345' is valid.\n"
     ]
    }
   ],
   "source": [
    "# 16. isdigit(): Returns True if all characters in the string are digits (0-9), otherwise False\n",
    "\n",
    "# In banking application, we can use isdigit() to validate OTP (One Time Password) entered by user\n",
    "otp = \"784345\"\n",
    "if otp.isdigit() is True:\n",
    "    print(f\"The OTP '{otp}' is valid.\")\n",
    "else:\n",
    "    print(f\"The OTP '{otp}' is not valid. It should contain only digits.\")"
   ]
  },
  {
   "cell_type": "code",
   "execution_count": 23,
   "id": "b3fa4146",
   "metadata": {},
   "outputs": [
    {
     "name": "stdout",
     "output_type": "stream",
     "text": [
      "The username 'DarshanIngle123' is valid.\n"
     ]
    }
   ],
   "source": [
    "# 17. isalnum(): Returns True if all characters in the string are alphanumeric (letters and numbers), otherwise False\n",
    "\n",
    "# In a user registration application, we can use isalnum() to validate that the username contains only letters and numbers\n",
    "username = \"DarshanIngle123\"\n",
    "# username = \"Darshan Ingle 123\"\n",
    "if username.isalnum() is True:\n",
    "    print(f\"The username '{username}' is valid.\")\n",
    "else:\n",
    "    print(f\"The username '{username}' is not valid. It should contain only letters and numbers.\")"
   ]
  },
  {
   "cell_type": "code",
   "execution_count": 24,
   "id": "fb796d74",
   "metadata": {},
   "outputs": [
    {
     "name": "stdout",
     "output_type": "stream",
     "text": [
      "Dear Darshan Ingle, your booking to Swiss Alps on 2023-12-25 is confirmed.\n"
     ]
    }
   ],
   "source": [
    "# 18. format(): Formats specified values in a string\n",
    "\n",
    "# In a travel booking application, we can use format() to create a booking confirmation message with dynamic values like user name, destination, and date\n",
    "user_name = \"Darshan Ingle\"\n",
    "destination = \"Swiss Alps\"\n",
    "date = \"2023-12-25\"\n",
    "confirmation_message = \"Dear {}, your booking to {} on {} is confirmed.\".format(user_name, destination, date)\n",
    "print(confirmation_message)"
   ]
  },
  {
   "cell_type": "code",
   "execution_count": 25,
   "id": "9bcafacc",
   "metadata": {},
   "outputs": [
    {
     "name": "stdout",
     "output_type": "stream",
     "text": [
      "Original Code with Tabs:\n",
      " def my_function():\n",
      "\tprint('Hello, World!')\n",
      "Code with Spaces:\n",
      " def my_function():\n",
      "    print('Hello, World!')\n"
     ]
    }
   ],
   "source": [
    "# 19. expandtabs(tabsize): Replaces all tab characters ('\\t') in the string with spaces. The number of spaces is determined by the tabsize parameter (default is 8).\n",
    "\n",
    "# In a text editor application, when displaying code with tab characters, we can use expandtabs() to convert tabs to spaces for better readability\n",
    "code_with_tabs = \"def my_function():\\n\\tprint('Hello, World!')\"\n",
    "print(\"Original Code with Tabs:\\n\", code_with_tabs)\n",
    "code_with_spaces = code_with_tabs.expandtabs(tabsize=4)\n",
    "print(\"Code with Spaces:\\n\", code_with_spaces)"
   ]
  },
  {
   "cell_type": "code",
   "execution_count": 26,
   "id": "a9b27059",
   "metadata": {},
   "outputs": [
    {
     "name": "stdout",
     "output_type": "stream",
     "text": [
      "Original Text:\n",
      " Hello, World! Welcome to Python programming.\n",
      "Translated Text:\n",
      " Jello, WorldV Welcome to Python programming\n"
     ]
    }
   ],
   "source": [
    "# 20. maketrans(): Creates a translation table for use with the translate() method\n",
    "# Syntax: str.maketrans(x, y, z)\n",
    "# where,\n",
    "# x - string specifying the characters to be replaced\n",
    "# y - string specifying the characters to replace with\n",
    "# z (optional) - string specifying the characters to be deleted\n",
    "\n",
    "# In a text processing application, we can use maketrans() and translate() to replace certain characters in a string\n",
    "text = \"Hello, World! Welcome to Python programming.\"\n",
    "print(\"Original Text:\\n\", text)\n",
    "# Create a translation table to replace 'H' with 'J', 'W' with 'V', and delete '!'\n",
    "translation_table = str.maketrans(\"H!\", \"JV\", \".\")\n",
    "# Translate the text using the translation table\n",
    "translated_text = text.translate(translation_table)\n",
    "print(\"Translated Text:\\n\", translated_text)"
   ]
  },
  {
   "cell_type": "markdown",
   "id": "98428362",
   "metadata": {},
   "source": [
    "---\n",
    "\n",
    "## Notebook Exercise: iPhone Version Tracker (String Functions)\n",
    "\n",
    "---\n",
    "\n",
    "### **Task 1 – Clean and Inspect the Raw String**\n",
    "\n",
    "```python\n",
    "iphone_version = \"iPhone_15_Pro_Max_V1.0_release\"\n",
    "```\n",
    "\n",
    "**Exercise Objectives:**\n",
    "\n",
    "1. Print the string and count its total characters using `len()`.\n",
    "2. Find the position of `\"Pro\"` using `.find()`.\n",
    "3. Extract `\"15_Pro_Max\"` using slicing.\n",
    "4. Convert the entire string to uppercase and lowercase.\n",
    "\n",
    "*Goal:* Understand inspection and basic string manipulations.\n",
    "\n",
    "---\n",
    "\n",
    "### **Task 2 – Format and Update the Version Name**\n",
    "\n",
    "**Scenario:** The company is about to release a new minor update.\n",
    "\n",
    "**Exercise Objectives:**\n",
    "\n",
    "1. Replace all `_` with spaces for readability using `.replace()`.\n",
    "2. Find `\"V1.0\"` and replace it with `\"V1.1\"`.\n",
    "3. Ensure the updated version string contains `\"V1.1\"` using `\"V1.1\" in ...`.\n",
    "4. Print both old and updated strings side by side.\n",
    "\n",
    "*Goal:* Practice `replace()`, `in`, and string reformatting.\n",
    "\n",
    "---\n",
    "\n",
    "### **Task 3 – Add Regional Code and Convert Style**\n",
    "\n",
    "**Scenario:** Apple is releasing the update specifically for India.\n",
    "\n",
    "**Exercise Objectives:**\n",
    "\n",
    "1. Append region code `_IN` at the end of the string using concatenation.\n",
    "2. Split the string by `_` and convert it to PascalCase format (e.g., `iPhone_15_Pro_Max` → `iPhone15ProMax`).\n",
    "3. Join the components back using `\"\".join()`.\n",
    "\n",
    "*Goal:* Use `split()`, `join()`, and capitalization functions together.\n",
    "\n",
    "---\n",
    "\n",
    "### **Task 4 – Generate a Version Release Log**\n",
    "\n",
    "**Scenario:** The release team needs an announcement message.\n",
    "\n",
    "**Exercise Objectives:**\n",
    "\n",
    "1. Assume today’s date is `\"2025-10-11\"`.\n",
    "2. Use an f-string or `.format()` to create a release message:\n",
    "\n",
    "   ```\n",
    "   \"New version iPhone 15 Pro Max V1.1_IN released on 2025-10-11\"\n",
    "   ```\n",
    "3. Use `.title()` for display formatting and `.count()` to count total words.\n",
    "\n",
    "*Goal:* Combine variables and string formatting functions effectively.\n",
    "\n",
    "---\n",
    "\n",
    "### **Task 5 – Summarize and Extract Core Details**\n",
    "\n",
    "**Scenario:** You now have multiple releases to analyze.\n",
    "\n",
    "```python\n",
    "versions = [\n",
    "    \"iPhone_15_Pro_Max_V1.0_release\",\n",
    "    \"iPhone_15_Pro_Max_V1.1_IN\",\n",
    "    \"iPhone_15_Pro_Max_V1.2_US\",\n",
    "    \"iPhone_15_Pro_Max_V2.0_EU\"\n",
    "]\n",
    "```\n",
    "\n",
    "**Exercise Objectives:**\n",
    "\n",
    "1. Extract only version numbers (`V1.0`, `V1.1`, etc.) from each string using `.split()` and indexing.\n",
    "2. Count how many releases exist per region using `.endswith()`.\n",
    "3. Identify the **latest version** by comparing version numbers.\n",
    "4. Display summary:\n",
    "\n",
    "   ```\n",
    "   Model: iPhone 15 Pro Max\n",
    "   Latest Version: V2.0\n",
    "   Region: EU\n",
    "   Total Versions Released: 4\n",
    "   ```\n",
    "\n",
    "*Goal:* Apply multiple string methods in a connected, real-world use case.\n",
    "\n",
    "---\n",
    "\n"
   ]
  },
  {
   "cell_type": "code",
   "execution_count": null,
   "id": "b7039301",
   "metadata": {},
   "outputs": [],
   "source": []
  },
  {
   "cell_type": "code",
   "execution_count": 27,
   "id": "45d6cb87",
   "metadata": {},
   "outputs": [
    {
     "name": "stdout",
     "output_type": "stream",
     "text": [
      "Initial Shopping Cart: []\n",
      "Shopping Cart after adding Laptop: ['Laptop']\n",
      "Shopping Cart after adding Smartphone: ['Laptop', 'Smartphone']\n",
      "Shopping Cart after adding Headphones: ['Laptop', 'Smartphone', 'Headphones']\n"
     ]
    }
   ],
   "source": [
    "# Python List Functions\n",
    "# Syntax: list_name.function_name()\n",
    "\n",
    "# 1. append(): Adds an element at the end of the list\n",
    "# Syntax: list_name.append(element)\n",
    "\n",
    "# In e-commerce, when a customer adds an item to their shopping cart.\n",
    "shopping_cart = []\n",
    "print(\"Initial Shopping Cart:\", shopping_cart)\n",
    "shopping_cart.append(\"Laptop\")\n",
    "print(\"Shopping Cart after adding Laptop:\", shopping_cart)\n",
    "shopping_cart.append(\"Smartphone\")\n",
    "print(\"Shopping Cart after adding Smartphone:\", shopping_cart)\n",
    "shopping_cart.append(\"Headphones\")\n",
    "print(\"Shopping Cart after adding Headphones:\", shopping_cart)"
   ]
  },
  {
   "cell_type": "code",
   "execution_count": 28,
   "id": "35ece229",
   "metadata": {},
   "outputs": [
    {
     "name": "stdout",
     "output_type": "stream",
     "text": [
      "Current Inventory: ['Laptop', 'Smartphone']\n",
      "Updated Inventory after new stock arrival: ['Laptop', 'Smartphone', 'Tablet', 'Smartwatch', 'Camera']\n"
     ]
    }
   ],
   "source": [
    "# 2. extend(): Adds the elements of a list (or any iterable) to the end of the current list\n",
    "# Syntax: list_name.extend(iterable)\n",
    "\n",
    "# In inventory management, when new stocks arrive for multiple products.\n",
    "current_inventory = [\"Laptop\", \"Smartphone\"]\n",
    "print(\"Current Inventory:\", current_inventory)\n",
    "new_stock = [\"Tablet\", \"Smartwatch\", \"Camera\"]\n",
    "current_inventory.extend(new_stock)\n",
    "print(\"Updated Inventory after new stock arrival:\", current_inventory)"
   ]
  },
  {
   "cell_type": "code",
   "execution_count": 29,
   "id": "ecc446c4",
   "metadata": {},
   "outputs": [
    {
     "name": "stdout",
     "output_type": "stream",
     "text": [
      "Current Route: ['Warehouse', 'Chembur', 'Andheri']\n",
      "Updated Route after inserting Priority Delivery Address: ['Warehouse', 'Dadar', 'Chembur', 'Andheri']\n"
     ]
    }
   ],
   "source": [
    "# 3. insert(): Adds an element at the specified position\n",
    "# Syntax: list_name.insert(index, element)\n",
    "\n",
    "# In a logistics route, inserting a priority delivery address at the second stop.\n",
    "current_route = [\"Warehouse\", \"Chembur\", \"Andheri\"]\n",
    "print(\"Current Route:\", current_route)\n",
    "current_route.insert(1, \"Dadar\")\n",
    "print(\"Updated Route after inserting Priority Delivery Address:\", current_route)"
   ]
  },
  {
   "cell_type": "code",
   "execution_count": 30,
   "id": "abc57484",
   "metadata": {},
   "outputs": [
    {
     "name": "stdout",
     "output_type": "stream",
     "text": [
      "Open Tickets: ['Ticket1', 'Ticket2', 'Ticket3']\n",
      "Open Tickets after resolving Ticket2: ['Ticket1', 'Ticket3']\n"
     ]
    }
   ],
   "source": [
    "# 4. remove(): Removes the first occurrence of a specified element from the list\n",
    "# Syntax: list_name.remove(element)\n",
    "\n",
    "# In a customer support ticketing system, removing a resolved ticket from the list.\n",
    "open_tickets = [\"Ticket1\", \"Ticket2\", \"Ticket3\"]\n",
    "print(\"Open Tickets:\", open_tickets)\n",
    "open_tickets.remove(\"Ticket2\")\n",
    "print(\"Open Tickets after resolving Ticket2:\", open_tickets)"
   ]
  },
  {
   "cell_type": "code",
   "execution_count": 31,
   "id": "769ed152",
   "metadata": {},
   "outputs": [
    {
     "name": "stdout",
     "output_type": "stream",
     "text": [
      "Initial To-Do List: ['Task1', 'Task2', 'Task3', 'Task4']\n",
      "Completed Task: Task2\n",
      "To-Do List after completing Task2: ['Task1', 'Task3', 'Task4']\n",
      "Completed Task: Task4\n",
      "To-Do List after completing last task: ['Task1', 'Task3']\n",
      "Original List: [10, 20, 30, 40, 50]\n"
     ]
    }
   ],
   "source": [
    "# 5. pop(): Removes and returns the element at the specified position (index). If index is not specified, removes and returns the last item in the list.\n",
    "# Syntax: list_name.pop(index)\n",
    "\n",
    "# In a task management application, when a user completes a task and wants to remove it from their to-do list.\n",
    "to_do_list = [\"Task1\", \"Task2\", \"Task3\", \"Task4\"]\n",
    "print(\"Initial To-Do List:\", to_do_list)\n",
    "completed_task = to_do_list.pop(1)  # Removing Task2 (index 1)\n",
    "print(f\"Completed Task: {completed_task}\")\n",
    "print(\"To-Do List after completing Task2:\", to_do_list)\n",
    "completed_task = to_do_list.pop()  # Removing last task (Task4)\n",
    "print(f\"Completed Task: {completed_task}\")\n",
    "print(\"To-Do List after completing last task:\", to_do_list)\n",
    "\n",
    "# Note:\n",
    "# remove() vs pop()\n",
    "# remove() is used to remove a specific element by value, while pop() is used to remove an element by its index and return it.\n",
    "# If you know the value of the element you want to remove, use remove().\n",
    "# If you want to remove an element based on its position in the list, use pop().\n",
    "# If you want to remove and use the removed element, use pop().\n",
    "# If the item to be removed is not found, remove() raises a ValueError, while pop() raises an IndexError if the index is out of range.\n",
    "l = [10, 20, 30, 40, 50]\n",
    "print(\"Original List:\", l)\n",
    "# l.remove(35)  # This will raise ValueError: list.remove(x): x not in list\n",
    "# print(\"List after removing 35:\", l)\n",
    "# l.pop(35)  # This will raise IndexError: pop index out of range\n",
    "# print(\"List after popping index 35:\", l)"
   ]
  },
  {
   "cell_type": "code",
   "execution_count": 32,
   "id": "8b903dcb",
   "metadata": {},
   "outputs": [
    {
     "name": "stdout",
     "output_type": "stream",
     "text": [
      "Passenger List: ['Anand', 'Bhushan', 'Chitra', 'Darshan', 'Esha']\n",
      "The seat number assigned to Darshan is: 3\n"
     ]
    }
   ],
   "source": [
    "# 6. index(): Returns the index of the first occurrence of a specified element in the list\n",
    "# Syntax: list_name.index(element)\n",
    "\n",
    "# In an airline booking system, find the seat number assigned to a particular passenger.\n",
    "passenger_list = [\"Anand\", \"Bhushan\", \"Chitra\", \"Darshan\", \"Esha\"]\n",
    "print(\"Passenger List:\", passenger_list)\n",
    "passenger_name = \"Darshan\"\n",
    "seat_index = passenger_list.index(passenger_name)\n",
    "print(f\"The seat number assigned to {passenger_name} is:\", seat_index)\n",
    "# Note: If the element is not found, index() raises a ValueError."
   ]
  },
  {
   "cell_type": "code",
   "execution_count": 33,
   "id": "322bfdf4",
   "metadata": {},
   "outputs": [
    {
     "name": "stdout",
     "output_type": "stream",
     "text": [
      "Feedback Ratings: [5, 4, 5, 3, 4, 5, 2, 5, 4, 3, 5, 5, 5, 5, 5]\n",
      "The rating 5 was given 9 times.\n"
     ]
    }
   ],
   "source": [
    "# 7. count(): Returns the number of occurrences of a specified element in the list\n",
    "# Syntax: list_name.count(element)\n",
    "\n",
    "# In a customer feedback system, count the number of times a specific feedback rating was given.\n",
    "feedback_ratings = [5, 4, 5, 3, 4, 5, 2, 5, 4, 3, 5, 5, 5, 5, 5]\n",
    "print(\"Feedback Ratings:\", feedback_ratings)\n",
    "rating_to_count = 5\n",
    "count = feedback_ratings.count(rating_to_count)\n",
    "print(f\"The rating {rating_to_count} was given {count} times.\")"
   ]
  },
  {
   "cell_type": "code",
   "execution_count": 34,
   "id": "b6ba999d",
   "metadata": {},
   "outputs": [
    {
     "name": "stdout",
     "output_type": "stream",
     "text": [
      "Original Company Names: ['Apple', 'Microsoft', 'Google', 'Amazon', 'Facebook']\n",
      "Sorted Company Names: ['Amazon', 'Apple', 'Facebook', 'Google', 'Microsoft']\n",
      "\n",
      "Original Player Scores: [1500, 3000, 2500, 4000, 3500]\n",
      "Player Scores sorted in Descending Order: [4000, 3500, 3000, 2500, 1500]\n"
     ]
    }
   ],
   "source": [
    "# 8. sort(): Sorts the elements of the list in ascending order (by default). Can also sort in descending order by setting the reverse parameter to True.\n",
    "# Syntax: list_name.sort(reverse=False)\n",
    "\n",
    "# In a stock trading app, sorting company names alphabetically.\n",
    "company_names = [\"Apple\", \"Microsoft\", \"Google\", \"Amazon\", \"Facebook\"]\n",
    "print(\"Original Company Names:\", company_names)\n",
    "company_names.sort()\n",
    "print(\"Sorted Company Names:\", company_names)\n",
    "\n",
    "print()\n",
    "# Sorting in descending order\n",
    "# In a leaderboard application, sorting player scores in descending order to display the top players.\n",
    "player_scores = [1500, 3000, 2500, 4000, 3500]\n",
    "print(\"Original Player Scores:\", player_scores)\n",
    "player_scores.sort(reverse=True)\n",
    "print(\"Player Scores sorted in Descending Order:\", player_scores)"
   ]
  },
  {
   "cell_type": "code",
   "execution_count": 35,
   "id": "5c88a99e",
   "metadata": {},
   "outputs": [
    {
     "name": "stdout",
     "output_type": "stream",
     "text": [
      "Original Supply Chain Route:\n",
      " ['Bhiwandi_Warehouse', 'Chembur_Distribution Center', 'Andheri_Retail Store', 'Dadar_Customer Location']\n",
      "Reversed Supply Chain Route (from delivery back to warehouse):\n",
      " ['Dadar_Customer Location', 'Andheri_Retail Store', 'Chembur_Distribution Center', 'Bhiwandi_Warehouse']\n"
     ]
    }
   ],
   "source": [
    "# 9. reverse(): Reverses the order of the elements in the list\n",
    "# Syntax: list_name.reverse()\n",
    "\n",
    "# In supply chain tracking, reversing the route from delivery back to warehouse.\n",
    "supply_chain_route = [\"Bhiwandi_Warehouse\", \"Chembur_Distribution Center\", \"Andheri_Retail Store\", \"Dadar_Customer Location\"]\n",
    "print(\"Original Supply Chain Route:\\n\", supply_chain_route)\n",
    "supply_chain_route.reverse()\n",
    "print(\"Reversed Supply Chain Route (from delivery back to warehouse):\\n\", supply_chain_route)"
   ]
  },
  {
   "cell_type": "code",
   "execution_count": 36,
   "id": "6d1a6722",
   "metadata": {},
   "outputs": [
    {
     "name": "stdout",
     "output_type": "stream",
     "text": [
      "Original List: [1, 2, 3, 4, 5]\n",
      "4588146112\n",
      "Copied List: [1, 2, 3, 4, 5]\n",
      "4588146624\n",
      "Original List after modifying Copied List: [1, 2, 3, 4, 5]\n",
      "Copied List after modification: [1, 2, 3, 4, 5, 6]\n",
      "\n",
      "Original List of Lists: [[1, 2], [3, 4], [5, 6]]\n",
      "4588147136\n",
      "Copied List of Lists: [[1, 2], [3, 4], [5, 6]]\n",
      "4588146816\n",
      "Original List after modifying Copied List: [[1, 2, 99], [3, 4], [5, 6]]\n",
      "Copied List after modification: [[1, 2, 99], [3, 4], [5, 6]]\n",
      "\n",
      "Original List of Lists: [[1, 2], [3, 4], [5, 6]]\n",
      "4588147392\n",
      "Copied List of Lists (Deep Copy): [[1, 2], [3, 4], [5, 6]]\n",
      "4588145984\n",
      "Original List after modifying Copied List: [[1, 2], [3, 4], [5, 6]]\n",
      "Copied List after modification: [[1, 2, 99], [3, 4], [5, 6]]\n"
     ]
    }
   ],
   "source": [
    "# 10. copy(): Returns a shallow copy of the list\n",
    "# Syntax: list_name.copy()\n",
    "# What is Shallow Copy?\n",
    "# A shallow copy of a list creates a new list object, but does not create copies of the objects that the list contains. Instead, it copies references to those objects. This means that if the original list contains mutable objects (like other lists or dictionaries), changes made to those objects in the copied list will also affect the original list, and vice versa.\n",
    "# However, if the original list contains immutable objects (like strings, integers, or tuples), changes made to those objects in the copied list will not affect the original list, since immutable objects cannot be changed.\n",
    "# Example of shallow copy with immutable objects\n",
    "original_list = [1, 2, 3, 4, 5]\n",
    "print(\"Original List:\", original_list)\n",
    "print(id(original_list))\n",
    "copied_list = original_list.copy()\n",
    "print(\"Copied List:\", copied_list)\n",
    "print(id(copied_list))\n",
    "# Modifying the copied list\n",
    "copied_list.append(6)\n",
    "print(\"Original List after modifying Copied List:\", original_list)\n",
    "print(\"Copied List after modification:\", copied_list)\n",
    "\n",
    "print()\n",
    "# Example of shallow copy with mutable objects\n",
    "original_list = [[1, 2], [3, 4], [5, 6]]\n",
    "print(\"Original List of Lists:\", original_list)\n",
    "print(id(original_list))\n",
    "copied_list = original_list.copy()\n",
    "print(\"Copied List of Lists:\", copied_list)\n",
    "print(id(copied_list))\n",
    "# Modifying a nested list in the copied list\n",
    "copied_list[0].append(99)\n",
    "print(\"Original List after modifying Copied List:\", original_list)\n",
    "print(\"Copied List after modification:\", copied_list)\n",
    "# As we can see, modifying the nested list in the copied list also affected the original list\n",
    "\n",
    "print()\n",
    "# Lets do that with deep copy\n",
    "import copy\n",
    "original_list = [[1, 2], [3, 4], [5, 6]]\n",
    "print(\"Original List of Lists:\", original_list)\n",
    "print(id(original_list))\n",
    "copied_list = copy.deepcopy(original_list)\n",
    "print(\"Copied List of Lists (Deep Copy):\", copied_list)\n",
    "print(id(copied_list))\n",
    "# Modifying a nested list in the copied list\n",
    "copied_list[0].append(99)\n",
    "print(\"Original List after modifying Copied List:\", original_list)\n",
    "print(\"Copied List after modification:\", copied_list)\n",
    "# As we can see, modifying the nested list in the copied list did not affect the original list"
   ]
  },
  {
   "cell_type": "code",
   "execution_count": 37,
   "id": "ab6f99a7",
   "metadata": {},
   "outputs": [
    {
     "name": "stdout",
     "output_type": "stream",
     "text": [
      "Customer Cart before order confirmation: ['Pizza', 'Pasta', 'Salad']\n",
      "Customer Cart after order confirmation: []\n"
     ]
    }
   ],
   "source": [
    "# 11. clear(): Removes all elements from the list\n",
    "# Syntax: list_name.clear()\n",
    "\n",
    "# In a restaurant ordering app, clear a customer's cart after order confirmation.\n",
    "customer_cart = [\"Pizza\", \"Pasta\", \"Salad\"]\n",
    "print(\"Customer Cart before order confirmation:\", customer_cart)\n",
    "customer_cart.clear()\n",
    "print(\"Customer Cart after order confirmation:\", customer_cart)"
   ]
  },
  {
   "cell_type": "code",
   "execution_count": 38,
   "id": "39e3740c",
   "metadata": {},
   "outputs": [
    {
     "data": {
      "text/plain": [
       "'\\nWhy List Functions Are Important in Industry?\\n1. Real-time Updates - Shopping carts, transaction queues need live updates using list functions.\\n2. Efficient Data Handling - Stock lists, inventory updates, user selections are managed using list methods.\\n3. User Experience - Smooth adding, removing, and sorting improves app usability.\\n4. System Automation - Data pipelines often depend on list operations for batch processing.\\n5. Data Analysis - Data scientists use lists for data manipulation and analysis.\\n6. Data Storage - Lists are used to store temporary data in memory for quick access.\\n7. Data Migration - Lists are used to store data during migration from one system to another.\\n8. Data Encryption - Lists are used to store data during encryption and decryption.\\n9. Data Compression - Lists are used to store data during compression and decompression.\\n10. Data Visualization - Lists are used to store data for visualization in charts and graphs.\\n'"
      ]
     },
     "execution_count": 38,
     "metadata": {},
     "output_type": "execute_result"
    }
   ],
   "source": [
    "\"\"\"\n",
    "Why List Functions Are Important in Industry?\n",
    "1. Real-time Updates - Shopping carts, transaction queues need live updates using list functions.\n",
    "2. Efficient Data Handling - Stock lists, inventory updates, user selections are managed using list methods.\n",
    "3. User Experience - Smooth adding, removing, and sorting improves app usability.\n",
    "4. System Automation - Data pipelines often depend on list operations for batch processing.\n",
    "5. Data Analysis - Data scientists use lists for data manipulation and analysis.\n",
    "6. Data Storage - Lists are used to store temporary data in memory for quick access.\n",
    "7. Data Migration - Lists are used to store data during migration from one system to another.\n",
    "8. Data Encryption - Lists are used to store data during encryption and decryption.\n",
    "9. Data Compression - Lists are used to store data during compression and decompression.\n",
    "10. Data Visualization - Lists are used to store data for visualization in charts and graphs.\n",
    "\"\"\""
   ]
  },
  {
   "cell_type": "markdown",
   "id": "0bbf672f",
   "metadata": {},
   "source": [
    "# Happy Learning"
   ]
  },
  {
   "cell_type": "code",
   "execution_count": null,
   "id": "0c84e74b",
   "metadata": {},
   "outputs": [],
   "source": [
    "# Tomorrows topics - 12th October 2025:\n",
    "# Tuples\n",
    "# Sets\n",
    "# Dictionary"
   ]
  },
  {
   "cell_type": "code",
   "execution_count": 40,
   "id": "cd526875",
   "metadata": {},
   "outputs": [
    {
     "name": "stdout",
     "output_type": "stream",
     "text": [
      "Symptoms Tuple: ('fever', 'cough', 'headache', 'fever', 'fatigue', 'fever')\n",
      "Number of times 'fever' appears in symptoms: 3\n"
     ]
    }
   ],
   "source": [
    "# Tuples Functions\n",
    "# Syntax: tuple_name.function_name()\n",
    "\n",
    "# 1. count(): Returns the number of occurrences of a specified element in the tuple\n",
    "\n",
    "# In healthcare application, counting the number of times a specific symptom appears in a patient's symptom list.\n",
    "symptoms = (\"fever\", \"cough\", \"headache\", \"fever\", \"fatigue\", \"fever\")\n",
    "print(\"Symptoms Tuple:\", symptoms)\n",
    "fever_count = symptoms.count(\"fever\")\n",
    "print(\"Number of times 'fever' appears in symptoms:\", fever_count)"
   ]
  },
  {
   "cell_type": "code",
   "execution_count": 41,
   "id": "03144761",
   "metadata": {},
   "outputs": [
    {
     "name": "stdout",
     "output_type": "stream",
     "text": [
      "Available Seats Tuple: ('1A', '1B', '1C', '2A', '2B', '2C')\n",
      "The seat '2B' is located at index: 4\n"
     ]
    }
   ],
   "source": [
    "# 2. index(): Returns the index of the first occurrence of a specified element in the tuple\n",
    "\n",
    "# In a flight booking system, finding the position of a specific seat in a tuple of available seats.\n",
    "available_seats = (\"1A\", \"1B\", \"1C\", \"2A\", \"2B\", \"2C\")\n",
    "print(\"Available Seats Tuple:\", available_seats)\n",
    "seat_to_find = \"2B\"\n",
    "seat_index = available_seats.index(seat_to_find)\n",
    "print(f\"The seat '{seat_to_find}' is located at index:\", seat_index)"
   ]
  },
  {
   "cell_type": "code",
   "execution_count": 42,
   "id": "9009a711",
   "metadata": {},
   "outputs": [
    {
     "name": "stdout",
     "output_type": "stream",
     "text": [
      "4\n",
      "10\n",
      "60\n",
      "147\n",
      "(1, 2, 3, 4)\n",
      "('H', 'e', 'l', 'l', 'o')\n"
     ]
    }
   ],
   "source": [
    "# Common built-in functions that can be used with tuples:\n",
    "\n",
    "# 1. len(): Returns the number of items in a tuple\n",
    "print(len((10, 32, 45, 60))) # 4\n",
    "# 2. min(): Returns the smallest item in a tuple\n",
    "print(min((10, 32, 45, 60))) # 10\n",
    "# 3. max(): Returns the largest item in a tuple\n",
    "print(max((10, 32, 45, 60))) # 60\n",
    "# 4. sum(): Returns the sum of all items in a tuple (only for numeric tuples)\n",
    "print(sum((10, 32, 45, 60))) # 147\n",
    "# 5. tuple(): Converts an iterable (like a list or string) into a tuple\n",
    "print(tuple([1, 2, 3, 4])) # (1, 2, 3, 4)\n",
    "print(tuple(\"Hello\")) # ('H', 'e', 'l', 'l', 'o')"
   ]
  },
  {
   "cell_type": "code",
   "execution_count": 43,
   "id": "d46e14f0",
   "metadata": {},
   "outputs": [],
   "source": [
    "# Common-interview questions on Tuples:\n",
    "# 1. How do you create a tuple in Python?\n",
    "# 2. How do you access elements in a tuple?\n",
    "# 3. How do you slice a tuple?\n",
    "# 4. How do you concatenate two tuples?\n",
    "# 5. How do you unpack a tuple?\n",
    "# 6. What is the difference between a list and a tuple?\n",
    "# 7. Can you modify a tuple after it is created? Why or why not?\n",
    "# 8. How do you convert a list to a tuple and vice versa?"
   ]
  },
  {
   "cell_type": "code",
   "execution_count": null,
   "id": "368bfa15",
   "metadata": {},
   "outputs": [
    {
     "name": "stdout",
     "output_type": "stream",
     "text": [
      "Original Student Names List:\n",
      " ['Darshan', 'Anand', 'Chitra', 'Bhushan', 'Esha', 'Namrata', 'Zayed', 'Sneha']\n",
      "Sorted Student Names List:\n",
      " ['Anand', 'Bhushan', 'Chitra', 'Darshan', 'Esha', 'Namrata', 'Sneha', 'Zayed']\n",
      "\n",
      "Original Player Scores List:\n",
      " [1500, 3000, 2500, 4000, 3500, 2800, 3200, 2900]\n",
      "Player Scores List sorted in Descending Order:\n",
      " [4000, 3500, 3200, 3000, 2900, 2800, 2500, 1500]\n",
      "\n",
      "Original Products List:\n",
      " [('Laptop', 800), ('Smartphone', 600), ('Tablet', 300), ('Smartwatch', 200), ('Headphones', 150)]\n",
      "Products List sorted by Name:\n",
      " [('Headphones', 150), ('Laptop', 800), ('Smartphone', 600), ('Smartwatch', 200), ('Tablet', 300)]\n",
      "Products List sorted by Price:\n",
      " [('Headphones', 150), ('Smartwatch', 200), ('Tablet', 300), ('Smartphone', 600), ('Laptop', 800)]\n"
     ]
    }
   ],
   "source": [
    "# Now before we start with Sets, lets understand one important function that is common to all data structures - sorted()\n",
    "# sorted(): Returns a new sorted list from the elements of any iterable (like list, tuple, set, etc.)\n",
    "# Syntax: sorted(iterable, key=None, reverse=False)\n",
    "# where,\n",
    "# iterable - the iterable to be sorted (like list, tuple, set, etc.)\n",
    "# key (optional) - a function that serves as a key for the sort comparison\n",
    "# reverse (optional) - if True, the list elements are sorted as if each comparison were reversed\n",
    "\n",
    "# Example of sorted() with a list\n",
    "# In a student management system, sorting student names alphabetically.\n",
    "student_names = [\"Darshan\", \"Anand\", \"Chitra\", \"Bhushan\", \"Esha\", \"Namrata\", \"Zayed\", \"Sneha\"]\n",
    "print(\"Original Student Names List:\\n\", student_names)\n",
    "sorted_student_names = sorted(student_names)\n",
    "print(\"Sorted Student Names List:\\n\", sorted_student_names)\n",
    "\n",
    "print()\n",
    "# using reverse parameter\n",
    "# In a leaderboard application, sorting player scores in descending order to display the top players.\n",
    "player_scores = [1500, 3000, 2500, 4000, 3500, 2800, 3200, 2900]\n",
    "print(\"Original Player Scores List:\\n\", player_scores)\n",
    "sorted_player_scores = sorted(player_scores, reverse=True)\n",
    "print(\"Player Scores List sorted in Descending Order:\\n\", sorted_player_scores)\n",
    "\n",
    "print()\n",
    "# Note: We have yet not covered lambda functions, but still I am showing you this example to give you a glimpse of how sorted() can be used. When we cover lambda functions, you will understand this example better.\n",
    "# using key parameter\n",
    "# In a product catalog, sorting products by their price.\n",
    "products = [(\"Laptop\", 800), (\"Smartphone\", 600), (\"Tablet\", 300), (\"Smartwatch\", 200), (\"Headphones\", 150)]\n",
    "print(\"Original Products List:\\n\", products)\n",
    "# Sorting products by name (first item in the tuple)\n",
    "# sorted_products_by_name = sorted(products)\n",
    "# or\n",
    "sorted_products_by_name = sorted(products, key=lambda x: x[0])\n",
    "print(\"Products List sorted by Name:\\n\", sorted_products_by_name)\n",
    "# Sorting products by price (second item in the tuple)\n",
    "sorted_products_by_price = sorted(products, key=lambda x: x[1])\n",
    "print(\"Products List sorted by Price:\\n\", sorted_products_by_price)"
   ]
  },
  {
   "cell_type": "code",
   "execution_count": null,
   "id": "72ea9fc7",
   "metadata": {},
   "outputs": [
    {
     "name": "stdout",
     "output_type": "stream",
     "text": [
      "{131, 'Darshan', 232, 42, 12, 'macbook', 'Ingle', 21}\n",
      "<class 'set'>\n"
     ]
    },
    {
     "ename": "TypeError",
     "evalue": "'set' object is not subscriptable",
     "output_type": "error",
     "traceback": [
      "\u001b[0;31m---------------------------------------------------------------------------\u001b[0m",
      "\u001b[0;31mTypeError\u001b[0m                                 Traceback (most recent call last)",
      "Cell \u001b[0;32mIn[50], line 16\u001b[0m\n\u001b[1;32m     14\u001b[0m \u001b[38;5;28mprint\u001b[39m(s) \n\u001b[1;32m     15\u001b[0m \u001b[38;5;28mprint\u001b[39m(\u001b[38;5;28mtype\u001b[39m(s))\n\u001b[0;32m---> 16\u001b[0m \u001b[38;5;28mprint\u001b[39m(s[\u001b[38;5;241m0\u001b[39m])\n",
      "\u001b[0;31mTypeError\u001b[0m: 'set' object is not subscriptable"
     ]
    }
   ],
   "source": [
    "# Set\n",
    "# What is a Set in Python, lets understand in small bullets:\n",
    "# - A set is an unordered collection of unique items.\n",
    "# - Sets are unindexed, meaning they do not support indexing or slicing.\n",
    "# - Sets are mutable.\n",
    "# - Sets do not allow duplicate values.\n",
    "# - Sets are defined using curly braces {} or the set() function.\n",
    "# - Sets support mathematical operations like union, intersection, difference, and symmetric difference.\n",
    "# - Sets are commonly used for membership testing, removing duplicates from a list, and performing mathematical set operations.\n",
    "\n",
    "# Creating a Set\n",
    "# Using curly braces {}\n",
    "s = {131, 232, 21, \"Darshan\", \"Ingle\", 131, 232, \"macbook\", 42, 42, 12, 42}\n",
    "print(s) \n",
    "print(type(s))\n",
    "# print(s[0]) # This will raise an error: TypeError: 'set' object is not subscriptable"
   ]
  },
  {
   "cell_type": "code",
   "execution_count": 64,
   "id": "78038196",
   "metadata": {},
   "outputs": [
    {
     "name": "stdout",
     "output_type": "stream",
     "text": [
      "Initial Subscribers Set:\n",
      " {'darshan.ingle@gmail.com', 'maria.rossi@gmail.com', 'farhan.khan@gmail.com'}\n",
      "Updated Subscribers Set: {'darshan.ingle@gmail.com', 'dhrubaditya.chakladar@gmail.com', 'maria.rossi@gmail.com', 'farhan.khan@gmail.com'}\n"
     ]
    }
   ],
   "source": [
    "# Set Functions with Industry Relevant Examples\n",
    "# Syntax: set_name.function_name()\n",
    "\n",
    "# 1. add(): Add a single element to the set\n",
    "# Syntax: set_name.add(element)\n",
    "\n",
    "# In an e-commerce application, assing a newly signed-up customer email idto a unique set of email ids\n",
    "subscribers = {\"darshan.ingle@gmail.com\", \"maria.rossi@gmail.com\", \"farhan.khan@gmail.com\"}\n",
    "print(\"Initial Subscribers Set:\\n\", subscribers)\n",
    "subscribers.add(\"dhrubaditya.chakladar@gmail.com\")\n",
    "print(\"Updated Subscribers Set:\", subscribers)"
   ]
  },
  {
   "cell_type": "code",
   "execution_count": 65,
   "id": "12b6c308",
   "metadata": {},
   "outputs": [
    {
     "name": "stdout",
     "output_type": "stream",
     "text": [
      "Current Loyalty Customers Set:\n",
      " {'Amit', 'Ranita', 'Neha', 'Suresh'}\n",
      "Updated Loyalty Customers Set:\n",
      " {'Ranita', 'Pooja', 'Amit', 'Ravi', 'Karan', 'Neha', 'Suresh'}\n"
     ]
    }
   ],
   "source": [
    "# 2. update(): Add multiple elements to the set (can take an iterable like list, tuple, set, etc.)\n",
    "# Syntax: set_name.update(iterable)\n",
    "\n",
    "# In a retail CRM system, update the loyalty program list with new batch of customers.\n",
    "# Current loyalty customers\n",
    "loyalty_customers = {\"Ranita\", \"Suresh\", \"Amit\", \"Neha\"}\n",
    "print(\"Current Loyalty Customers Set:\\n\", loyalty_customers)\n",
    "# New batch of loyalty customers\n",
    "new_loyalty_customers = [\"Karan\", \"Pooja\", \"Amit\", \"Ravi\"]\n",
    "loyalty_customers.update(new_loyalty_customers)\n",
    "print(\"Updated Loyalty Customers Set:\\n\", loyalty_customers)"
   ]
  },
  {
   "cell_type": "code",
   "execution_count": 68,
   "id": "a3b2d21a",
   "metadata": {},
   "outputs": [
    {
     "name": "stdout",
     "output_type": "stream",
     "text": [
      "Active Machines Set:\n",
      " {'RobotArm2', '3DPrinter3', 'CNC4', 'ConveyorBelt1'}\n",
      "Updated Active Machines Set after removing defective machine:\n",
      " {'3DPrinter3', 'CNC4', 'ConveyorBelt1'}\n"
     ]
    }
   ],
   "source": [
    "# 3. remove(): Remove a specified element from the set. Raises a KeyError if the element is not found.\n",
    "# Syntax: set_name.remove(element)\n",
    "\n",
    "# In manufacturing, remove a defective machine code from active machine list.\n",
    "# Active machines\n",
    "active_machines = {\"ConveyorBelt1\", \"RobotArm2\", \"3DPrinter3\", \"CNC4\"}\n",
    "print(\"Active Machines Set:\\n\", active_machines)\n",
    "# Removing a defective machine - RobotArm2\n",
    "active_machines.remove(\"RobotArm2\")\n",
    "print(\"Updated Active Machines Set after removing defective machine:\\n\", active_machines)\n",
    "# active_machines.remove(\"Lathe5\") # This will raise KeyError: 'Lathe5'\n",
    "# print(\"Updated Active Machines Set after removing non-existent machine:\\n\", active_machines)"
   ]
  },
  {
   "cell_type": "code",
   "execution_count": null,
   "id": "1e5aa482",
   "metadata": {},
   "outputs": [
    {
     "name": "stdout",
     "output_type": "stream",
     "text": [
      "Active Machines Set:\n",
      " {'RobotArm2', '3DPrinter3', 'CNC4', 'ConveyorBelt1'}\n",
      "Updated Active Machines Set after discarding non-existent machine:\n",
      " {'RobotArm2', '3DPrinter3', 'CNC4', 'ConveyorBelt1'}\n"
     ]
    }
   ],
   "source": [
    "# 4. discard(): Remove a specified element from the set. Does not raise an error if the element is not found.\n",
    "# Syntax: set_name.discard(element)\n",
    "\n",
    "# In manufacturing, discard a non-defective machine code from active machine list.\n",
    "# Active machines\n",
    "active_machines = {\"ConveyorBelt1\", \"RobotArm2\", \"3DPrinter3\", \"CNC4\"}\n",
    "print(\"Active Machines Set:\\n\", active_machines)\n",
    "# Discarding a non-defective machine - Lathe5\n",
    "active_machines.discard(\"Lathe5\")\n",
    "print(\"Updated Active Machines Set after discarding non-existent machine:\\n\", active_machines)\n",
    "\n",
    "# Note:\n",
    "# When to use remove() vs discard()\n",
    "# Use remove() when you want to ensure that the element is present in the set and want to raise an error if it is not found.\n",
    "# Practical example: In a banking application, when removing a user's account from a set of active accounts, you want to ensure that the account exists before removal. If it doesn't exist, raising an error helps identify potential issues.\n",
    "# Use discard() when you want to remove an element without raising an error if it is not found in the set.\n",
    "# Practical example: In a social media application, when removing a user from a set of online users, you may not care if the user is already offline. Using discard() allows you to attempt the removal without worrying about whether the user is present in the set."
   ]
  },
  {
   "cell_type": "code",
   "execution_count": 70,
   "id": "c1d3f347",
   "metadata": {},
   "outputs": [
    {
     "name": "stdout",
     "output_type": "stream",
     "text": [
      "Available Workers Set:\n",
      " {'Charlie', 'Bob', 'Alice', 'David'}\n",
      "Assigned Worker for Urgent Task:\n",
      " Charlie\n",
      "Updated Available Workers Set:\n",
      " {'Bob', 'Alice', 'David'}\n"
     ]
    }
   ],
   "source": [
    "# 5. pop(): Removes and returns an arbitrary element from the set. Raises a KeyError if the set is empty.\n",
    "# Syntax: set_name.pop()\n",
    "\n",
    "# In job scheduling, pop any available worker for an urgent task.\n",
    "# Available workers\n",
    "available_workers = {\"Alice\", \"Bob\", \"Charlie\", \"David\"}\n",
    "print(\"Available Workers Set:\\n\", available_workers)\n",
    "# Popping an available worker\n",
    "assigned_worker = available_workers.pop()\n",
    "print(\"Assigned Worker for Urgent Task:\\n\", assigned_worker)\n",
    "print(\"Updated Available Workers Set:\\n\", available_workers)"
   ]
  },
  {
   "cell_type": "code",
   "execution_count": 71,
   "id": "9402ad86",
   "metadata": {},
   "outputs": [
    {
     "name": "stdout",
     "output_type": "stream",
     "text": [
      "Guest Check-Ins Set:\n",
      " {'John', 'Bob', 'Alice'}\n",
      "Updated Guest Check-Ins Set after clearing:\n",
      " set()\n"
     ]
    }
   ],
   "source": [
    "# 6. clear(): Removes all elements from the set\n",
    "# Syntax: set_name.clear()\n",
    "\n",
    "# In event management, clear guest check-in records after the event.\n",
    "# Guest check-ins\n",
    "guest_check_ins = {\"John\", \"Alice\", \"Bob\"}\n",
    "print(\"Guest Check-Ins Set:\\n\", guest_check_ins)\n",
    "# Clearing all guest check-ins after the event\n",
    "guest_check_ins.clear()\n",
    "print(\"Updated Guest Check-Ins Set after clearing:\\n\", guest_check_ins)"
   ]
  },
  {
   "cell_type": "code",
   "execution_count": 72,
   "id": "e9051911",
   "metadata": {},
   "outputs": [
    {
     "name": "stdout",
     "output_type": "stream",
     "text": [
      "Savings Account Customers Set:\n",
      " {'Vikram Singh', 'Rajesh Niranjan', 'Anita Desai'}\n",
      "Credit Card Customers Set:\n",
      " {'Anita Desai', 'Sunil Mehta', 'Preeti Sharma'}\n",
      "All Unique Customers Set (Union):\n",
      " {'Preeti Sharma', 'Anita Desai', 'Vikram Singh', 'Rajesh Niranjan', 'Sunil Mehta'}\n"
     ]
    }
   ],
   "source": [
    "# Set Operations (very important in industry)\n",
    "\n",
    "# 1. union(): Returns a new set that is the union of two sets (all unique elements from both sets)\n",
    "# Syntax: set1.union(set2) or set1 | set2\n",
    "\n",
    "# In banking, combine customers from two different product lines.\n",
    "# Customers with savings account\n",
    "savings_customers = {\"Rajesh Niranjan\", \"Anita Desai\", \"Vikram Singh\"}\n",
    "# Customers with credit card\n",
    "credit_card_customers = {\"Anita Desai\", \"Sunil Mehta\", \"Preeti Sharma\"}\n",
    "print(\"Savings Account Customers Set:\\n\", savings_customers)\n",
    "print(\"Credit Card Customers Set:\\n\", credit_card_customers)\n",
    "# Union of both sets to get all unique customers\n",
    "all_customers = savings_customers.union(credit_card_customers)\n",
    "# or\n",
    "# all_customers = savings_customers | credit_card_customers\n",
    "print(\"All Unique Customers Set (Union):\\n\", all_customers)"
   ]
  },
  {
   "cell_type": "code",
   "execution_count": 73,
   "id": "0d0a506e",
   "metadata": {},
   "outputs": [
    {
     "name": "stdout",
     "output_type": "stream",
     "text": [
      "Webinar A Attendees Set:\n",
      " {'Vikram Singh', 'Anita Desai', 'Darshan Ingle', 'Sunil Mehta'}\n",
      "Webinar B Attendees Set:\n",
      " {'Vikram Singh', 'Anita Desai', 'Ravi Kumar', 'Preeti Sharma'}\n",
      "Common Attendees Set (Intersection):\n",
      " {'Vikram Singh', 'Anita Desai'}\n"
     ]
    }
   ],
   "source": [
    "# 2. intersection(): Returns a new set that is the intersection of two sets (only elements common to both sets)\n",
    "# Syntax: set1.intersection(set2) or set1 & set2\n",
    "\n",
    "# In marketing, find customers who attended both Webinar A and Webinar B.\n",
    "# Webinar A attendees\n",
    "webinar_a_attendees = {\"Darshan Ingle\", \"Anita Desai\", \"Vikram Singh\", \"Sunil Mehta\"}\n",
    "# Webinar B attendees\n",
    "webinar_b_attendees = {\"Anita Desai\", \"Preeti Sharma\", \"Vikram Singh\", \"Ravi Kumar\"}\n",
    "print(\"Webinar A Attendees Set:\\n\", webinar_a_attendees)\n",
    "print(\"Webinar B Attendees Set:\\n\", webinar_b_attendees)\n",
    "# Intersection of both sets to get common attendees\n",
    "common_attendees = webinar_a_attendees.intersection(webinar_b_attendees)\n",
    "# or\n",
    "# common_attendees = webinar_a_attendees & webinar_b_attendees\n",
    "print(\"Common Attendees Set (Intersection):\\n\", common_attendees)"
   ]
  },
  {
   "cell_type": "code",
   "execution_count": 74,
   "id": "8d880d77",
   "metadata": {},
   "outputs": [
    {
     "name": "stdout",
     "output_type": "stream",
     "text": [
      "Health Insurance Customers Set:\n",
      " {'Vikram Singh', 'Rajesh Niranjan', 'Anita Desai'}\n",
      "Vehicle Insurance Customers Set:\n",
      " {'Anita Desai', 'Sunil Mehta', 'Preeti Sharma'}\n",
      "Health Insurance Only Customers Set (Difference):\n",
      " {'Vikram Singh', 'Rajesh Niranjan'}\n"
     ]
    }
   ],
   "source": [
    "# 3. difference(): Returns a new set that is the difference of two sets (elements in the first set that are not in the second set)\n",
    "# Syntax: set1.difference(set2) or set1 - set2\n",
    "\n",
    "# In insurance, find customers who purchased health insurance but not vehicle insurance.\n",
    "# Health insurance customers\n",
    "health_insurance_customers = {\"Rajesh Niranjan\", \"Anita Desai\", \"Vikram Singh\"}\n",
    "# Vehicle insurance customers\n",
    "vehicle_insurance_customers = {\"Anita Desai\", \"Sunil Mehta\", \"Preeti Sharma\"}\n",
    "print(\"Health Insurance Customers Set:\\n\", health_insurance_customers)\n",
    "print(\"Vehicle Insurance Customers Set:\\n\", vehicle_insurance_customers)\n",
    "# Difference of both sets to get customers with health insurance only\n",
    "health_only_customers = health_insurance_customers.difference(vehicle_insurance_customers)\n",
    "# or\n",
    "# health_only_customers = health_insurance_customers - vehicle_insurance_customers\n",
    "print(\"Health Insurance Only Customers Set (Difference):\\n\", health_only_customers)"
   ]
  },
  {
   "cell_type": "code",
   "execution_count": null,
   "id": "8b78a31c",
   "metadata": {},
   "outputs": [
    {
     "name": "stdout",
     "output_type": "stream",
     "text": [
      "Old Department Employees Set:\n",
      " {'Vikram Singh', 'Rajesh Niranjan', 'Anita Desai'}\n",
      "New Department Employees Set:\n",
      " {'Anita Desai', 'Sunil Mehta', 'Preeti Sharma'}\n",
      "Employees Who Shifted Departments Set (Symmetric Difference):\n",
      " {'Vikram Singh', 'Rajesh Niranjan', 'Preeti Sharma', 'Sunil Mehta'}\n"
     ]
    }
   ],
   "source": [
    "# 4. symmetric_difference(): Returns a new set that is the symmetric difference of two sets (elements in either set, but not in both)\n",
    "# Syntax: set1.symmetric_difference(set2) or set1 ^ set2\n",
    "\n",
    "# In HR systems, find employees who shifted departments.\n",
    "# Old department employees\n",
    "old_department_employees = {\"Rajesh Niranjan\", \"Anita Desai\", \"Vikram Singh\"}\n",
    "# New department employees\n",
    "new_department_employees = {\"Anita Desai\", \"Sunil Mehta\", \"Preeti Sharma\"}\n",
    "print(\"Old Department Employees Set:\\n\", old_department_employees)\n",
    "print(\"New Department Employees Set:\\n\", new_department_employees)\n",
    "# Symmetric difference of both sets to get employees who shifted departments\n",
    "shifted_employees = old_department_employees.symmetric_difference(new_department_employees)\n",
    "# or\n",
    "# shifted_employees = old_department_employees ^ new_department_employees\n",
    "print(\"Employees Who Shifted Departments Set (Symmetric Difference):\\n\", shifted_employees)"
   ]
  },
  {
   "cell_type": "code",
   "execution_count": 76,
   "id": "bd9e5cb9",
   "metadata": {},
   "outputs": [],
   "source": [
    "# Why Sets Are Useful in Industry?\n",
    "# 1. Data Integrity - Ensuring uniqueness in user IDs, email addresses, and product SKUs.\n",
    "# 2. Efficient Membership Testing - Fast lookups for access control, feature toggles, and configuration settings.\n",
    "# 3. Data Cleaning - Removing duplicates from large datasets in data processing pipelines.\n",
    "# 4. Mathematical Set Operations - Performing union, intersection, and difference operations in recommendation systems.\n",
    "# 5. Real-time Analytics - Tracking unique visitors, active users, and event occurrences in real-time applications.\n",
    "# 6. Network Analysis - Analyzing connections and relationships in social networks and communication networks.\n",
    "# 7. Inventory Management - Managing unique items in stock and tracking product availability.\n",
    "# 8. Fraud Detection - Identifying unique patterns and anomalies in transaction data.\n",
    "# 9. Caching - Storing unique results of expensive function calls to improve performance."
   ]
  },
  {
   "cell_type": "markdown",
   "id": "cfe04d2d",
   "metadata": {},
   "source": [
    "---\n",
    "\n",
    "### **Problem Statement: Hospital Data Management System**\n",
    "\n",
    "In a hospital environment, managing patient records, staff schedules, and inventory efficiently is crucial for smooth operations. You are tasked with building small modules to handle basic operations on **strings**, **lists**, **tuples**, and **sets** as part of an internal Hospital Data Management System.\n",
    "\n",
    "You need to create functionalities to:\n",
    "\n",
    "- **Format and clean up patient names** to ensure data consistency.\n",
    "- **Generate patient IDs** based on names and current year for registration.\n",
    "- **Manage medicine inventory** by adding new stock and removing discontinued medicines using lists.\n",
    "- **Store and display patient vital signs** securely using tuples.\n",
    "- **Handle room details** like room number, type, and availability using tuples.\n",
    "- **Track unique doctors on duty** in different shifts using sets.\n",
    "- **Find doctors common to multiple shifts** to optimize staff scheduling.\n",
    "- **Split patient full names** for detailed storage into first, middle, and last names using string and list operations.\n",
    "- **Update current in-patient records** by removing discharged patients from active sets.\n",
    "\n",
    "The system must ensure:\n",
    "- **Data cleanliness** (proper formatting of names).\n",
    "- **Data uniqueness** (no duplicate doctors or patients in active lists).\n",
    "- **Efficient updates** (addition and removal of items from inventory and records).\n",
    "- **Readability and accessibility** of key data points (like patient vitals and room details).\n",
    "\n",
    "---"
   ]
  },
  {
   "cell_type": "markdown",
   "id": "e079630e",
   "metadata": {},
   "source": [
    "---\n",
    "\n",
    "**1. String Task: Format Patient Name Properly**  \n",
    "*Sample Input:* `\"dr. rAj mEhta\"`  \n",
    "*Sample Output:* `\"Dr. Raj Mehta\"`\n",
    "\n",
    "---\n",
    "\n",
    "**2. String Task: Create Patient ID**  \n",
    "*Sample Input:* Patient Name: `\"Anjali Verma\"`  \n",
    "*Sample Output:* `\"ANJALIV2025\"`  \n",
    "*(Patient name in uppercase with last name first letter and current year)*\n",
    "\n",
    "---\n",
    "\n",
    "**3. List Task: Add New Medicines to Inventory**  \n",
    "*Sample Input:* Existing: `[\"Paracetamol\", \"Ibuprofen\"]`, New: `[\"Amoxicillin\", \"Cetrizine\"]`  \n",
    "*Sample Output:* `[\"Paracetamol\", \"Ibuprofen\", \"Amoxicillin\", \"Cetrizine\"]`\n",
    "\n",
    "---\n",
    "\n",
    "**4. List Task: Remove Discontinued Medicines**  \n",
    "*Sample Input:* Inventory: `[\"Paracetamol\", \"Ibuprofen\", \"Amoxicillin\", \"Cetrizine\"]`, Discontinue: `\"Amoxicillin\"`  \n",
    "*Sample Output:* `[\"Paracetamol\", \"Ibuprofen\", \"Cetrizine\"]`\n",
    "\n",
    "---\n",
    "\n",
    "**5. Tuple Task: Store Patient Vital Signs**  \n",
    "*Sample Input:* `(98.6, 120, 80)`  \n",
    "*Sample Output:*  \n",
    "- Temperature: `98.6°F`  \n",
    "- BP Systolic: `120 mmHg`  \n",
    "- BP Diastolic: `80 mmHg`\n",
    "\n",
    "---\n",
    "\n",
    "**6. Tuple Task: Identify Room Details**  \n",
    "*Sample Input:* Room: `(\"Room No 302\", \"ICU\", \"Available\")`  \n",
    "*Sample Output:*  \n",
    "- Room No: `Room No 302`  \n",
    "- Type: `ICU`  \n",
    "- Status: `Available`\n",
    "\n",
    "---\n",
    "\n",
    "**7. Set Task: Track Unique Doctors on Duty**  \n",
    "*Sample Input:* `{\"Dr. A\", \"Dr. B\", \"Dr. C\"}`, New Doctor: `\"Dr. D\"`  \n",
    "*Sample Output:* `{\"Dr. A\", \"Dr. B\", \"Dr. C\", \"Dr. D\"}`\n",
    "\n",
    "---\n",
    "\n",
    "**8. Set Task: Find Common Doctors between Two Shifts**  \n",
    "*Sample Input:* Morning: `{\"Dr. A\", \"Dr. B\"}`, Evening: `{\"Dr. B\", \"Dr. C\"}`  \n",
    "*Sample Output:* `{\"Dr. B\"}`\n",
    "\n",
    "---\n",
    "\n",
    "**9. String + List Task: Split Patient Full Name**  \n",
    "*Sample Input:* `\"Rajesh Kumar Gupta\"`  \n",
    "*Sample Output:* `[\"Rajesh\", \"Kumar\", \"Gupta\"]`\n",
    "\n",
    "---\n",
    "\n",
    "**10. Set Task: Remove Discharged Patients from Hospital List**  \n",
    "*Sample Input:* Current: `{\"P1\", \"P2\", \"P3\"}`, Discharged: `{\"P2\"}`  \n",
    "*Sample Output:* `{\"P1\", \"P3\"}`\n",
    "\n",
    "---"
   ]
  },
  {
   "cell_type": "code",
   "execution_count": null,
   "id": "78e9921a",
   "metadata": {},
   "outputs": [],
   "source": []
  }
 ],
 "metadata": {
  "kernelspec": {
   "display_name": "base",
   "language": "python",
   "name": "python3"
  },
  "language_info": {
   "codemirror_mode": {
    "name": "ipython",
    "version": 3
   },
   "file_extension": ".py",
   "mimetype": "text/x-python",
   "name": "python",
   "nbconvert_exporter": "python",
   "pygments_lexer": "ipython3",
   "version": "3.11.13"
  }
 },
 "nbformat": 4,
 "nbformat_minor": 5
}
